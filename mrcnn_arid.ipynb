{
 "cells": [
  {
   "cell_type": "code",
   "execution_count": 2,
   "metadata": {},
   "outputs": [
    {
     "name": "stdout",
     "output_type": "stream",
     "text": [
      "Defaulting to user installation because normal site-packages is not writeable\n",
      "Collecting keras==2.2.4\n",
      "  Using cached Keras-2.2.4-py2.py3-none-any.whl (312 kB)\n",
      "Requirement already satisfied: h5py in /home/jiayi/.local/lib/python3.5/site-packages (from keras==2.2.4) (2.10.0)\n",
      "Requirement already satisfied: keras-preprocessing>=1.0.5 in /home/jiayi/.local/lib/python3.5/site-packages (from keras==2.2.4) (1.1.0)\n",
      "Requirement already satisfied: six>=1.9.0 in /home/jiayi/.local/lib/python3.5/site-packages (from keras==2.2.4) (1.13.0)\n",
      "Requirement already satisfied: pyyaml in /home/jiayi/.local/lib/python3.5/site-packages (from keras==2.2.4) (5.3)\n",
      "Requirement already satisfied: scipy>=0.14 in /home/jiayi/.local/lib/python3.5/site-packages (from keras==2.2.4) (1.4.1)\n",
      "Requirement already satisfied: keras-applications>=1.0.6 in /home/jiayi/.local/lib/python3.5/site-packages (from keras==2.2.4) (1.0.8)\n",
      "Requirement already satisfied: numpy>=1.9.1 in /home/jiayi/.local/lib/python3.5/site-packages (from keras==2.2.4) (1.18.1)\n",
      "Installing collected packages: keras\n",
      "  Attempting uninstall: keras\n",
      "    Found existing installation: Keras 2.0.8\n",
      "    Uninstalling Keras-2.0.8:\n",
      "      Successfully uninstalled Keras-2.0.8\n",
      "Successfully installed keras-2.2.4\n"
     ]
    }
   ],
   "source": [
    "!pip3 install keras==2.2.4"
   ]
  },
  {
   "cell_type": "code",
   "execution_count": 3,
   "metadata": {},
   "outputs": [
    {
     "name": "stdout",
     "output_type": "stream",
     "text": [
      "Using TensorFlow backend.\n",
      "2.2.4\n"
     ]
    }
   ],
   "source": [
    "!python3 -c 'import keras; print(keras.__version__)'"
   ]
  },
  {
   "cell_type": "code",
   "execution_count": 4,
   "metadata": {},
   "outputs": [
    {
     "name": "stdout",
     "output_type": "stream",
     "text": [
      "Cloning into 'keras-yolo3'...\n",
      "remote: Enumerating objects: 165, done.\u001b[K\n",
      "remote: Total 165 (delta 0), reused 0 (delta 0), pack-reused 165\u001b[K\n",
      "Receiving objects: 100% (165/165), 156.01 KiB | 186.00 KiB/s, done.\n",
      "Resolving deltas: 100% (79/79), done.\n",
      "Checking connectivity... done.\n"
     ]
    }
   ],
   "source": [
    "!git clone https://github.com/josephofiowa/keras-yolo3.git"
   ]
  },
  {
   "cell_type": "code",
   "execution_count": 5,
   "metadata": {},
   "outputs": [
    {
     "name": "stdout",
     "output_type": "stream",
     "text": [
      "\u001b[0m\u001b[34;42m01_no_challenge\u001b[0m/         json_script.sh               removescript.sh\r\n",
      "\u001b[01;34marid_40k_scene_dataset\u001b[0m/  \u001b[01;34mkeras-yolo3\u001b[0m/                 renamescript.sh\r\n",
      "\u001b[01;34marid_40k_small_crops\u001b[0m/    \u001b[01;34mMask_RCNN\u001b[0m/                   split_json.sh\r\n",
      "\u001b[01;34mdataset_rgb\u001b[0m/             movejsonscript.sh            Untitled.ipynb\r\n",
      "extractBoundingBox.py    \u001b[01;34mOcclusionChallengeICCV2015\u001b[0m/\r\n",
      "\u001b[01;34mjsons\u001b[0m/                   README.md\r\n"
     ]
    }
   ],
   "source": [
    "%ls"
   ]
  },
  {
   "cell_type": "code",
   "execution_count": 6,
   "metadata": {},
   "outputs": [
    {
     "name": "stdout",
     "output_type": "stream",
     "text": [
      "/home/jiayi/ObjectRecognition/keras-yolo3\n"
     ]
    }
   ],
   "source": [
    "%cd keras-yolo3/"
   ]
  },
  {
   "cell_type": "code",
   "execution_count": 7,
   "metadata": {},
   "outputs": [
    {
     "name": "stdout",
     "output_type": "stream",
     "text": [
      "coco_annotation.py  kmeans.py    train_bottleneck.py  yolo.py\r\n",
      "convert.py          LICENSE      train.py             yolov3.cfg\r\n",
      "darknet53.cfg       \u001b[0m\u001b[01;34mmodel_data\u001b[0m/  voc_annotation.py    yolov3-tiny.cfg\r\n",
      "\u001b[01;34mfont\u001b[0m/               README.md    \u001b[01;34myolo3\u001b[0m/               yolo_video.py\r\n"
     ]
    }
   ],
   "source": [
    "%ls"
   ]
  },
  {
   "cell_type": "code",
   "execution_count": 8,
   "metadata": {},
   "outputs": [
    {
     "name": "stdout",
     "output_type": "stream",
     "text": [
      "--2020-03-18 22:35:55--  https://pjreddie.com/media/files/yolov3.weights\n",
      "Resolving pjreddie.com (pjreddie.com)... 128.208.4.108\n",
      "Connecting to pjreddie.com (pjreddie.com)|128.208.4.108|:443... connected.\n",
      "HTTP request sent, awaiting response... 200 OK\n",
      "Length: 248007048 (237M) [application/octet-stream]\n",
      "Saving to: ‘yolov3.weights’\n",
      "\n",
      "yolov3.weights      100%[===================>] 236,52M   659KB/s    in 7m 39s  \n",
      "\n",
      "2020-03-18 22:43:36 (527 KB/s) - ‘yolov3.weights’ saved [248007048/248007048]\n",
      "\n"
     ]
    }
   ],
   "source": [
    "!wget https://pjreddie.com/media/files/yolov3.weights"
   ]
  },
  {
   "cell_type": "code",
   "execution_count": null,
   "metadata": {},
   "outputs": [],
   "source": [
    "!python3 convert.py yolov3.cfg yolov3.weights model_data/yolo.h5"
   ]
  }
 ],
 "metadata": {
  "kernelspec": {
   "display_name": "Python 3",
   "language": "python",
   "name": "python3"
  },
  "language_info": {
   "codemirror_mode": {
    "name": "ipython",
    "version": 2
   },
   "file_extension": ".py",
   "mimetype": "text/x-python",
   "name": "python",
   "nbconvert_exporter": "python",
   "pygments_lexer": "ipython2",
   "version": "2.7.12"
  }
 },
 "nbformat": 4,
 "nbformat_minor": 2
}
